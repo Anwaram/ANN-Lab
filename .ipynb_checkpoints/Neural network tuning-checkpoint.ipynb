{
 "cells": [
  {
   "cell_type": "markdown",
   "metadata": {},
   "source": [
    "# Neural network Tuning"
   ]
  },
  {
   "cell_type": "code",
   "execution_count": 26,
   "metadata": {
    "scrolled": true
   },
   "outputs": [
    {
     "ename": "ModuleNotFoundError",
     "evalue": "No module named 'keras.wrappers'",
     "output_type": "error",
     "traceback": [
      "\u001b[0;31m---------------------------------------------------------------------------\u001b[0m",
      "\u001b[0;31mModuleNotFoundError\u001b[0m                       Traceback (most recent call last)",
      "\u001b[0;32m/var/folders/yx/mkxgj7v515qgtq5wbdbx0hrw0000gn/T/ipykernel_56791/392242941.py\u001b[0m in \u001b[0;36m<module>\u001b[0;34m\u001b[0m\n\u001b[1;32m      7\u001b[0m \u001b[0;32mimport\u001b[0m \u001b[0mwarnings\u001b[0m\u001b[0;34m\u001b[0m\u001b[0;34m\u001b[0m\u001b[0m\n\u001b[1;32m      8\u001b[0m \u001b[0mwarnings\u001b[0m\u001b[0;34m.\u001b[0m\u001b[0mfilterwarnings\u001b[0m\u001b[0;34m(\u001b[0m\u001b[0;34m'ignore'\u001b[0m\u001b[0;34m)\u001b[0m\u001b[0;34m\u001b[0m\u001b[0;34m\u001b[0m\u001b[0m\n\u001b[0;32m----> 9\u001b[0;31m \u001b[0;32mfrom\u001b[0m \u001b[0mkeras\u001b[0m\u001b[0;34m.\u001b[0m\u001b[0mwrappers\u001b[0m\u001b[0;34m.\u001b[0m\u001b[0mscikit_learn\u001b[0m \u001b[0;32mimport\u001b[0m \u001b[0mKerasClassifier\u001b[0m\u001b[0;34m\u001b[0m\u001b[0;34m\u001b[0m\u001b[0m\n\u001b[0m",
      "\u001b[0;31mModuleNotFoundError\u001b[0m: No module named 'keras.wrappers'"
     ]
    }
   ],
   "source": [
    "# Importing necesary packages\n",
    "import numpy\n",
    "import pandas as pd\n",
    "from sklearn.model_selection import GridSearchCV \n",
    "from keras.models import Sequential\n",
    "from keras.layers import Dense\n",
    "import warnings\n",
    "warnings.filterwarnings('ignore')\n",
    "from keras.wrappers.scikit_learn import KerasClassifier"
   ]
  },
  {
   "cell_type": "markdown",
   "metadata": {},
   "source": [
    "# part 1 - Tuning batch and epoch"
   ]
  },
  {
   "cell_type": "code",
   "execution_count": 2,
   "metadata": {},
   "outputs": [],
   "source": [
    "# load the dataset for India diabetes\n",
    "data = pd.read_csv('diabetes.csv')"
   ]
  },
  {
   "cell_type": "code",
   "execution_count": 3,
   "metadata": {},
   "outputs": [
    {
     "data": {
      "text/html": [
       "<div>\n",
       "<style scoped>\n",
       "    .dataframe tbody tr th:only-of-type {\n",
       "        vertical-align: middle;\n",
       "    }\n",
       "\n",
       "    .dataframe tbody tr th {\n",
       "        vertical-align: top;\n",
       "    }\n",
       "\n",
       "    .dataframe thead th {\n",
       "        text-align: right;\n",
       "    }\n",
       "</style>\n",
       "<table border=\"1\" class=\"dataframe\">\n",
       "  <thead>\n",
       "    <tr style=\"text-align: right;\">\n",
       "      <th></th>\n",
       "      <th>Pregnancies</th>\n",
       "      <th>Glucose</th>\n",
       "      <th>BloodPressure</th>\n",
       "      <th>SkinThickness</th>\n",
       "      <th>Insulin</th>\n",
       "      <th>BMI</th>\n",
       "      <th>DiabetesPedigreeFunction</th>\n",
       "      <th>Age</th>\n",
       "      <th>Outcome</th>\n",
       "    </tr>\n",
       "  </thead>\n",
       "  <tbody>\n",
       "    <tr>\n",
       "      <th>0</th>\n",
       "      <td>6</td>\n",
       "      <td>148</td>\n",
       "      <td>72</td>\n",
       "      <td>35</td>\n",
       "      <td>0</td>\n",
       "      <td>33.6</td>\n",
       "      <td>0.627</td>\n",
       "      <td>50</td>\n",
       "      <td>1</td>\n",
       "    </tr>\n",
       "    <tr>\n",
       "      <th>1</th>\n",
       "      <td>1</td>\n",
       "      <td>85</td>\n",
       "      <td>66</td>\n",
       "      <td>29</td>\n",
       "      <td>0</td>\n",
       "      <td>26.6</td>\n",
       "      <td>0.351</td>\n",
       "      <td>31</td>\n",
       "      <td>0</td>\n",
       "    </tr>\n",
       "    <tr>\n",
       "      <th>2</th>\n",
       "      <td>8</td>\n",
       "      <td>183</td>\n",
       "      <td>64</td>\n",
       "      <td>0</td>\n",
       "      <td>0</td>\n",
       "      <td>23.3</td>\n",
       "      <td>0.672</td>\n",
       "      <td>32</td>\n",
       "      <td>1</td>\n",
       "    </tr>\n",
       "    <tr>\n",
       "      <th>3</th>\n",
       "      <td>1</td>\n",
       "      <td>89</td>\n",
       "      <td>66</td>\n",
       "      <td>23</td>\n",
       "      <td>94</td>\n",
       "      <td>28.1</td>\n",
       "      <td>0.167</td>\n",
       "      <td>21</td>\n",
       "      <td>0</td>\n",
       "    </tr>\n",
       "    <tr>\n",
       "      <th>4</th>\n",
       "      <td>0</td>\n",
       "      <td>137</td>\n",
       "      <td>40</td>\n",
       "      <td>35</td>\n",
       "      <td>168</td>\n",
       "      <td>43.1</td>\n",
       "      <td>2.288</td>\n",
       "      <td>33</td>\n",
       "      <td>1</td>\n",
       "    </tr>\n",
       "  </tbody>\n",
       "</table>\n",
       "</div>"
      ],
      "text/plain": [
       "   Pregnancies  Glucose  BloodPressure  SkinThickness  Insulin   BMI  \\\n",
       "0            6      148             72             35        0  33.6   \n",
       "1            1       85             66             29        0  26.6   \n",
       "2            8      183             64              0        0  23.3   \n",
       "3            1       89             66             23       94  28.1   \n",
       "4            0      137             40             35      168  43.1   \n",
       "\n",
       "   DiabetesPedigreeFunction  Age  Outcome  \n",
       "0                     0.627   50        1  \n",
       "1                     0.351   31        0  \n",
       "2                     0.672   32        1  \n",
       "3                     0.167   21        0  \n",
       "4                     2.288   33        1  "
      ]
     },
     "execution_count": 3,
     "metadata": {},
     "output_type": "execute_result"
    }
   ],
   "source": [
    "#viewing data\n",
    "data.head()"
   ]
  },
  {
   "cell_type": "code",
   "execution_count": 7,
   "metadata": {},
   "outputs": [
    {
     "data": {
      "text/html": [
       "<div>\n",
       "<style scoped>\n",
       "    .dataframe tbody tr th:only-of-type {\n",
       "        vertical-align: middle;\n",
       "    }\n",
       "\n",
       "    .dataframe tbody tr th {\n",
       "        vertical-align: top;\n",
       "    }\n",
       "\n",
       "    .dataframe thead th {\n",
       "        text-align: right;\n",
       "    }\n",
       "</style>\n",
       "<table border=\"1\" class=\"dataframe\">\n",
       "  <thead>\n",
       "    <tr style=\"text-align: right;\">\n",
       "      <th></th>\n",
       "      <th>Pregnancies</th>\n",
       "      <th>Glucose</th>\n",
       "      <th>BloodPressure</th>\n",
       "      <th>SkinThickness</th>\n",
       "      <th>Insulin</th>\n",
       "      <th>BMI</th>\n",
       "      <th>DiabetesPedigreeFunction</th>\n",
       "      <th>Age</th>\n",
       "      <th>Outcome</th>\n",
       "    </tr>\n",
       "  </thead>\n",
       "  <tbody>\n",
       "    <tr>\n",
       "      <th>count</th>\n",
       "      <td>768.000000</td>\n",
       "      <td>768.000000</td>\n",
       "      <td>768.000000</td>\n",
       "      <td>768.000000</td>\n",
       "      <td>768.000000</td>\n",
       "      <td>768.000000</td>\n",
       "      <td>768.000000</td>\n",
       "      <td>768.000000</td>\n",
       "      <td>768.000000</td>\n",
       "    </tr>\n",
       "    <tr>\n",
       "      <th>mean</th>\n",
       "      <td>3.845052</td>\n",
       "      <td>120.894531</td>\n",
       "      <td>69.105469</td>\n",
       "      <td>20.536458</td>\n",
       "      <td>79.799479</td>\n",
       "      <td>31.992578</td>\n",
       "      <td>0.471876</td>\n",
       "      <td>33.240885</td>\n",
       "      <td>0.348958</td>\n",
       "    </tr>\n",
       "    <tr>\n",
       "      <th>std</th>\n",
       "      <td>3.369578</td>\n",
       "      <td>31.972618</td>\n",
       "      <td>19.355807</td>\n",
       "      <td>15.952218</td>\n",
       "      <td>115.244002</td>\n",
       "      <td>7.884160</td>\n",
       "      <td>0.331329</td>\n",
       "      <td>11.760232</td>\n",
       "      <td>0.476951</td>\n",
       "    </tr>\n",
       "    <tr>\n",
       "      <th>min</th>\n",
       "      <td>0.000000</td>\n",
       "      <td>0.000000</td>\n",
       "      <td>0.000000</td>\n",
       "      <td>0.000000</td>\n",
       "      <td>0.000000</td>\n",
       "      <td>0.000000</td>\n",
       "      <td>0.078000</td>\n",
       "      <td>21.000000</td>\n",
       "      <td>0.000000</td>\n",
       "    </tr>\n",
       "    <tr>\n",
       "      <th>25%</th>\n",
       "      <td>1.000000</td>\n",
       "      <td>99.000000</td>\n",
       "      <td>62.000000</td>\n",
       "      <td>0.000000</td>\n",
       "      <td>0.000000</td>\n",
       "      <td>27.300000</td>\n",
       "      <td>0.243750</td>\n",
       "      <td>24.000000</td>\n",
       "      <td>0.000000</td>\n",
       "    </tr>\n",
       "    <tr>\n",
       "      <th>50%</th>\n",
       "      <td>3.000000</td>\n",
       "      <td>117.000000</td>\n",
       "      <td>72.000000</td>\n",
       "      <td>23.000000</td>\n",
       "      <td>30.500000</td>\n",
       "      <td>32.000000</td>\n",
       "      <td>0.372500</td>\n",
       "      <td>29.000000</td>\n",
       "      <td>0.000000</td>\n",
       "    </tr>\n",
       "    <tr>\n",
       "      <th>75%</th>\n",
       "      <td>6.000000</td>\n",
       "      <td>140.250000</td>\n",
       "      <td>80.000000</td>\n",
       "      <td>32.000000</td>\n",
       "      <td>127.250000</td>\n",
       "      <td>36.600000</td>\n",
       "      <td>0.626250</td>\n",
       "      <td>41.000000</td>\n",
       "      <td>1.000000</td>\n",
       "    </tr>\n",
       "    <tr>\n",
       "      <th>max</th>\n",
       "      <td>17.000000</td>\n",
       "      <td>199.000000</td>\n",
       "      <td>122.000000</td>\n",
       "      <td>99.000000</td>\n",
       "      <td>846.000000</td>\n",
       "      <td>67.100000</td>\n",
       "      <td>2.420000</td>\n",
       "      <td>81.000000</td>\n",
       "      <td>1.000000</td>\n",
       "    </tr>\n",
       "  </tbody>\n",
       "</table>\n",
       "</div>"
      ],
      "text/plain": [
       "       Pregnancies     Glucose  BloodPressure  SkinThickness     Insulin  \\\n",
       "count   768.000000  768.000000     768.000000     768.000000  768.000000   \n",
       "mean      3.845052  120.894531      69.105469      20.536458   79.799479   \n",
       "std       3.369578   31.972618      19.355807      15.952218  115.244002   \n",
       "min       0.000000    0.000000       0.000000       0.000000    0.000000   \n",
       "25%       1.000000   99.000000      62.000000       0.000000    0.000000   \n",
       "50%       3.000000  117.000000      72.000000      23.000000   30.500000   \n",
       "75%       6.000000  140.250000      80.000000      32.000000  127.250000   \n",
       "max      17.000000  199.000000     122.000000      99.000000  846.000000   \n",
       "\n",
       "              BMI  DiabetesPedigreeFunction         Age     Outcome  \n",
       "count  768.000000                768.000000  768.000000  768.000000  \n",
       "mean    31.992578                  0.471876   33.240885    0.348958  \n",
       "std      7.884160                  0.331329   11.760232    0.476951  \n",
       "min      0.000000                  0.078000   21.000000    0.000000  \n",
       "25%     27.300000                  0.243750   24.000000    0.000000  \n",
       "50%     32.000000                  0.372500   29.000000    0.000000  \n",
       "75%     36.600000                  0.626250   41.000000    1.000000  \n",
       "max     67.100000                  2.420000   81.000000    1.000000  "
      ]
     },
     "execution_count": 7,
     "metadata": {},
     "output_type": "execute_result"
    }
   ],
   "source": [
    "data.describe()"
   ]
  },
  {
   "cell_type": "code",
   "execution_count": 10,
   "metadata": {
    "scrolled": false
   },
   "outputs": [
    {
     "data": {
      "image/png": "[encoded data removed]",
      "text/plain": [
       "<Figure size 640x480 with 1 Axes>"
      ]
     },
     "metadata": {},
     "output_type": "display_data"
    }
   ],
   "source": [
    "import seaborn as sns\n",
    "sns.boxplot(data=data['Insulin']);"
   ]
  },
  {
   "cell_type": "code",
   "execution_count": 12,
   "metadata": {},
   "outputs": [
    {
     "name": "stdout",
     "output_type": "stream",
     "text": [
      "lower bound outliers  -191.25\n",
      "higher bound outliers 318.75\n"
     ]
    }
   ],
   "source": [
    "import numpy as np\n",
    "Q1 = np.percentile(data['Insulin'], 25, interpolation = 'midpoint')\n",
    "Q3 = np.percentile(data['Insulin'], 75, interpolation = 'midpoint')\n",
    "IQR = Q3 - Q1\n",
    "               \n",
    "print('lower bound outliers ', Q1 - 1.5*(IQR))\n",
    "print('higher bound outliers', Q3 + 1.5*(IQR))"
   ]
  },
  {
   "cell_type": "code",
   "execution_count": 17,
   "metadata": {},
   "outputs": [],
   "source": [
    "import pandas as pd \n",
    "df = data.copy()\n",
    "df = df.drop(df[(df['Insulin'] > 318.75) | (df['Insulin'] < -191.25)].index)"
   ]
  },
  {
   "cell_type": "code",
   "execution_count": 19,
   "metadata": {},
   "outputs": [
    {
     "data": {
      "image/png": "[encoded data removed]",
      "text/plain": [
       "<Figure size 640x480 with 1 Axes>"
      ]
     },
     "metadata": {},
     "output_type": "display_data"
    }
   ],
   "source": [
    "sns.boxplot(data=df['Insulin']);"
   ]
  },
  {
   "cell_type": "code",
   "execution_count": 21,
   "metadata": {},
   "outputs": [],
   "source": [
    "data = df"
   ]
  },
  {
   "cell_type": "code",
   "execution_count": 31,
   "metadata": {},
   "outputs": [
    {
     "data": {
      "text/plain": [
       "Index(['Pregnancies', 'Glucose', 'BloodPressure', 'SkinThickness', 'Insulin',\n",
       "       'BMI', 'DiabetesPedigreeFunction', 'Age', 'Outcome'],\n",
       "      dtype='object')"
      ]
     },
     "execution_count": 31,
     "metadata": {},
     "output_type": "execute_result"
    }
   ],
   "source": [
    "data.columns"
   ]
  },
  {
   "cell_type": "code",
   "execution_count": 28,
   "metadata": {},
   "outputs": [
    {
     "data": {
      "text/plain": [
       "5"
      ]
     },
     "execution_count": 28,
     "metadata": {},
     "output_type": "execute_result"
    }
   ],
   "source": [
    "data['Pregnancies'].value_counts()[0] \n",
    "'Glucose', \n",
    "'BloodPressure', \n",
    "'SkinThickness', \n",
    "'Insulin',\n",
    "'BMI', \n",
    "'DiabetesPedigreeFunction', \n",
    "'Age', \n",
    "'Outcome'].value_counts()[0]"
   ]
  },
  {
   "cell_type": "code",
   "execution_count": 22,
   "metadata": {},
   "outputs": [],
   "source": [
    "# split into predictors and response\n",
    "X = data.iloc[:,0:8] #predictors\n",
    "Y = data.iloc[:,8] #response"
   ]
  },
  {
   "cell_type": "code",
   "execution_count": 23,
   "metadata": {},
   "outputs": [],
   "source": [
    "# Function to create model,for KerasClassifier\n",
    "def create_my_model():\n",
    "    #defining my model\n",
    "    mymodel = Sequential()\n",
    "    mymodel.add(Dense(12, input_dim=8, activation='relu'))\n",
    "    mymodel.add(Dense(1, activation='sigmoid'))\n",
    "    \n",
    "    # Compile the model\n",
    "    mymodel.compile(loss='binary_crossentropy', optimizer='adam', metrics=['accuracy'])\n",
    "    return mymodel"
   ]
  },
  {
   "cell_type": "code",
   "execution_count": 24,
   "metadata": {},
   "outputs": [
    {
     "ename": "NameError",
     "evalue": "name 'KerasClassifier' is not defined",
     "output_type": "error",
     "traceback": [
      "\u001b[0;31m---------------------------------------------------------------------------\u001b[0m",
      "\u001b[0;31mNameError\u001b[0m                                 Traceback (most recent call last)",
      "\u001b[0;32m/var/folders/yx/mkxgj7v515qgtq5wbdbx0hrw0000gn/T/ipykernel_56791/3398971026.py\u001b[0m in \u001b[0;36m<module>\u001b[0;34m\u001b[0m\n\u001b[1;32m      1\u001b[0m \u001b[0;31m# create model\u001b[0m\u001b[0;34m\u001b[0m\u001b[0;34m\u001b[0m\u001b[0m\n\u001b[0;32m----> 2\u001b[0;31m \u001b[0mmodel\u001b[0m \u001b[0;34m=\u001b[0m \u001b[0mKerasClassifier\u001b[0m\u001b[0;34m(\u001b[0m\u001b[0mbuild_fn\u001b[0m\u001b[0;34m=\u001b[0m\u001b[0mcreate_my_model\u001b[0m\u001b[0;34m)\u001b[0m\u001b[0;34m\u001b[0m\u001b[0;34m\u001b[0m\u001b[0m\n\u001b[0m",
      "\u001b[0;31mNameError\u001b[0m: name 'KerasClassifier' is not defined"
     ]
    }
   ],
   "source": [
    "# create model\n",
    "model = KerasClassifier(build_fn=create_my_model)"
   ]
  },
  {
   "cell_type": "code",
   "execution_count": 25,
   "metadata": {},
   "outputs": [],
   "source": [
    "# define the grid search parameters\n",
    "batchSize = [10, 20, 40, 60, 80, 100]\n",
    "epochs = [10, 30, 50]"
   ]
  },
  {
   "cell_type": "code",
   "execution_count": 36,
   "metadata": {},
   "outputs": [
    {
     "name": "stdout",
     "output_type": "stream",
     "text": [
      "Epoch 1/50\n",
      "768/768 [==============================] - 1s 1ms/step - loss: 12.3063 - accuracy: 0.4401\n",
      "Epoch 2/50\n",
      "768/768 [==============================] - 0s 259us/step - loss: 3.1792 - accuracy: 0.5951\n",
      "Epoch 3/50\n",
      "768/768 [==============================] - 0s 240us/step - loss: 2.3888 - accuracy: 0.6120\n",
      "Epoch 4/50\n",
      "768/768 [==============================] - 0s 280us/step - loss: 2.0140 - accuracy: 0.6029\n",
      "Epoch 5/50\n",
      "768/768 [==============================] - 0s 263us/step - loss: 1.5988 - accuracy: 0.6185\n",
      "Epoch 6/50\n",
      "768/768 [==============================] - 0s 250us/step - loss: 1.3167 - accuracy: 0.6276\n",
      "Epoch 7/50\n",
      "768/768 [==============================] - 0s 406us/step - loss: 1.1392 - accuracy: 0.6081\n",
      "Epoch 8/50\n",
      "768/768 [==============================] - 0s 362us/step - loss: 1.0216 - accuracy: 0.6094\n",
      "Epoch 9/50\n",
      "768/768 [==============================] - 0s 340us/step - loss: 0.9658 - accuracy: 0.6081\n",
      "Epoch 10/50\n",
      "768/768 [==============================] - 0s 340us/step - loss: 0.9297 - accuracy: 0.6081\n",
      "Epoch 11/50\n",
      "768/768 [==============================] - 0s 305us/step - loss: 0.8976 - accuracy: 0.6159\n",
      "Epoch 12/50\n",
      "768/768 [==============================] - 0s 311us/step - loss: 0.8845 - accuracy: 0.6172\n",
      "Epoch 13/50\n",
      "768/768 [==============================] - 0s 302us/step - loss: 0.8586 - accuracy: 0.6289\n",
      "Epoch 14/50\n",
      "768/768 [==============================] - 0s 337us/step - loss: 0.8588 - accuracy: 0.6224\n",
      "Epoch 15/50\n",
      "768/768 [==============================] - 0s 294us/step - loss: 0.8199 - accuracy: 0.6354\n",
      "Epoch 16/50\n",
      "768/768 [==============================] - 0s 299us/step - loss: 0.8343 - accuracy: 0.6159\n",
      "Epoch 17/50\n",
      "768/768 [==============================] - 0s 314us/step - loss: 0.8114 - accuracy: 0.6315\n",
      "Epoch 18/50\n",
      "768/768 [==============================] - 0s 301us/step - loss: 0.8002 - accuracy: 0.6224\n",
      "Epoch 19/50\n",
      "768/768 [==============================] - 0s 290us/step - loss: 0.7855 - accuracy: 0.6341\n",
      "Epoch 20/50\n",
      "768/768 [==============================] - 0s 318us/step - loss: 0.7467 - accuracy: 0.6393\n",
      "Epoch 21/50\n",
      "768/768 [==============================] - 0s 291us/step - loss: 0.7489 - accuracy: 0.6654\n",
      "Epoch 22/50\n",
      "768/768 [==============================] - 0s 262us/step - loss: 0.7330 - accuracy: 0.6562\n",
      "Epoch 23/50\n",
      "768/768 [==============================] - 0s 233us/step - loss: 0.7336 - accuracy: 0.6628\n",
      "Epoch 24/50\n",
      "768/768 [==============================] - 0s 271us/step - loss: 0.7251 - accuracy: 0.63930s - loss: 0.6606 - accuracy: \n",
      "Epoch 25/50\n",
      "768/768 [==============================] - 0s 260us/step - loss: 0.7368 - accuracy: 0.6367\n",
      "Epoch 26/50\n",
      "768/768 [==============================] - 0s 258us/step - loss: 0.6964 - accuracy: 0.6510\n",
      "Epoch 27/50\n",
      "768/768 [==============================] - 0s 275us/step - loss: 0.6847 - accuracy: 0.6510\n",
      "Epoch 28/50\n",
      "768/768 [==============================] - 0s 246us/step - loss: 0.7001 - accuracy: 0.6523\n",
      "Epoch 29/50\n",
      "768/768 [==============================] - 0s 254us/step - loss: 0.6885 - accuracy: 0.6615\n",
      "Epoch 30/50\n",
      "768/768 [==============================] - 0s 288us/step - loss: 0.6807 - accuracy: 0.6680\n",
      "Epoch 31/50\n",
      "768/768 [==============================] - 0s 250us/step - loss: 0.6747 - accuracy: 0.6484\n",
      "Epoch 32/50\n",
      "768/768 [==============================] - 0s 308us/step - loss: 0.6674 - accuracy: 0.6654\n",
      "Epoch 33/50\n",
      "768/768 [==============================] - 0s 259us/step - loss: 0.6631 - accuracy: 0.6667\n",
      "Epoch 34/50\n",
      "768/768 [==============================] - 0s 245us/step - loss: 0.6414 - accuracy: 0.6810\n",
      "Epoch 35/50\n",
      "768/768 [==============================] - 0s 316us/step - loss: 0.6562 - accuracy: 0.6758\n",
      "Epoch 36/50\n",
      "768/768 [==============================] - 0s 260us/step - loss: 0.6430 - accuracy: 0.6628\n",
      "Epoch 37/50\n",
      "768/768 [==============================] - 0s 272us/step - loss: 0.6391 - accuracy: 0.6758\n",
      "Epoch 38/50\n",
      "768/768 [==============================] - 0s 247us/step - loss: 0.6191 - accuracy: 0.6836\n",
      "Epoch 39/50\n",
      "768/768 [==============================] - 0s 260us/step - loss: 0.6568 - accuracy: 0.6680\n",
      "Epoch 40/50\n",
      "768/768 [==============================] - 0s 275us/step - loss: 0.6122 - accuracy: 0.6953\n",
      "Epoch 41/50\n",
      "768/768 [==============================] - 0s 249us/step - loss: 0.6221 - accuracy: 0.6797\n",
      "Epoch 42/50\n",
      "768/768 [==============================] - 0s 293us/step - loss: 0.6096 - accuracy: 0.6914\n",
      "Epoch 43/50\n",
      "768/768 [==============================] - 0s 318us/step - loss: 0.6176 - accuracy: 0.6940\n",
      "Epoch 44/50\n",
      "768/768 [==============================] - 0s 294us/step - loss: 0.6159 - accuracy: 0.6706\n",
      "Epoch 45/50\n",
      "768/768 [==============================] - 0s 259us/step - loss: 0.6315 - accuracy: 0.6706\n",
      "Epoch 46/50\n",
      "768/768 [==============================] - 0s 256us/step - loss: 0.6518 - accuracy: 0.6836\n",
      "Epoch 47/50\n",
      "768/768 [==============================] - 0s 268us/step - loss: 0.6066 - accuracy: 0.6784\n",
      "Epoch 48/50\n",
      "768/768 [==============================] - 0s 243us/step - loss: 0.5938 - accuracy: 0.6862\n",
      "Epoch 49/50\n",
      "768/768 [==============================] - 0s 265us/step - loss: 0.6093 - accuracy: 0.6914\n",
      "Epoch 50/50\n",
      "768/768 [==============================] - 0s 268us/step - loss: 0.6267 - accuracy: 0.6706\n"
     ]
    }
   ],
   "source": [
    "parameter_grid = dict(batch_size=batchSize, epochs=epochs)\n",
    "\n",
    "\n",
    "mygrid = GridSearchCV(estimator=model, param_grid=parameter_grid, n_jobs=-1, cv=3)\n",
    "grid_result = mygrid.fit(X, Y)"
   ]
  },
  {
   "cell_type": "code",
   "execution_count": 37,
   "metadata": {},
   "outputs": [
    {
     "name": "stdout",
     "output_type": "stream",
     "text": [
      "Best: 0.679688 using {'batch_size': 10, 'epochs': 50}\n"
     ]
    }
   ],
   "source": [
    "# summarize results\n",
    "print(\"Best: %f using %s\" % (grid_result.best_score_, grid_result.best_params_))"
   ]
  },
  {
   "cell_type": "markdown",
   "metadata": {},
   "source": [
    "# part 2- Optimizing Activation Function"
   ]
  },
  {
   "cell_type": "code",
   "execution_count": 65,
   "metadata": {},
   "outputs": [],
   "source": [
    "# Function to create model\n",
    "def create_my_model(optimizer='adam'):\n",
    "    # create model\n",
    "    mymodel = Sequential()\n",
    "    mymodel.add(Dense(12, input_dim=8, activation='relu'))\n",
    "    mymodel.add(Dense(1, activation='sigmoid'))\n",
    "    # Compile model\n",
    "    mymodel.compile(loss='binary_crossentropy', optimizer=optimizer, metrics=['accuracy'])\n",
    "    return mymodel"
   ]
  },
  {
   "cell_type": "code",
   "execution_count": 66,
   "metadata": {},
   "outputs": [],
   "source": [
    "# create model\n",
    "model = KerasClassifier(build_fn=create_my_model, epochs=50, batch_size=10)"
   ]
  },
  {
   "cell_type": "code",
   "execution_count": 67,
   "metadata": {},
   "outputs": [],
   "source": [
    "# define the grid search parameters\n",
    "optimizer = ['SGD','Adadelta', 'RMSprop', 'Adagrad','Adam']\n",
    "parameter_grid = dict(optimizer=optimizer)"
   ]
  },
  {
   "cell_type": "code",
   "execution_count": 68,
   "metadata": {},
   "outputs": [
    {
     "name": "stdout",
     "output_type": "stream",
     "text": [
      "Epoch 1/50\n",
      "768/768 [==============================] - 1s 677us/step - loss: 1.5185 - accuracy: 0.6445\n",
      "Epoch 2/50\n",
      "768/768 [==============================] - 0s 177us/step - loss: 0.6720 - accuracy: 0.6615\n",
      "Epoch 3/50\n",
      "768/768 [==============================] - 0s 177us/step - loss: 0.6598 - accuracy: 0.6602\n",
      "Epoch 4/50\n",
      "768/768 [==============================] - 0s 198us/step - loss: 0.6476 - accuracy: 0.6602\n",
      "Epoch 5/50\n",
      "768/768 [==============================] - 0s 177us/step - loss: 0.6397 - accuracy: 0.6849\n",
      "Epoch 6/50\n",
      "768/768 [==============================] - 0s 177us/step - loss: 0.6369 - accuracy: 0.6732\n",
      "Epoch 7/50\n",
      "768/768 [==============================] - 0s 229us/step - loss: 0.6322 - accuracy: 0.6745\n",
      "Epoch 8/50\n",
      "768/768 [==============================] - 0s 208us/step - loss: 0.6273 - accuracy: 0.6810\n",
      "Epoch 9/50\n",
      "768/768 [==============================] - 0s 187us/step - loss: 0.6226 - accuracy: 0.6784\n",
      "Epoch 10/50\n",
      "768/768 [==============================] - 0s 177us/step - loss: 0.6217 - accuracy: 0.6654\n",
      "Epoch 11/50\n",
      "768/768 [==============================] - 0s 240us/step - loss: 0.6190 - accuracy: 0.6719\n",
      "Epoch 12/50\n",
      "768/768 [==============================] - 0s 177us/step - loss: 0.6201 - accuracy: 0.6784\n",
      "Epoch 13/50\n",
      "768/768 [==============================] - 0s 177us/step - loss: 0.6227 - accuracy: 0.6797\n",
      "Epoch 14/50\n",
      "768/768 [==============================] - 0s 177us/step - loss: 0.6148 - accuracy: 0.6875\n",
      "Epoch 15/50\n",
      "768/768 [==============================] - 0s 177us/step - loss: 0.6197 - accuracy: 0.6797\n",
      "Epoch 16/50\n",
      "768/768 [==============================] - 0s 208us/step - loss: 0.6171 - accuracy: 0.6875\n",
      "Epoch 17/50\n",
      "768/768 [==============================] - 0s 177us/step - loss: 0.6155 - accuracy: 0.6836\n",
      "Epoch 18/50\n",
      "768/768 [==============================] - 0s 219us/step - loss: 0.6166 - accuracy: 0.6771\n",
      "Epoch 19/50\n",
      "768/768 [==============================] - 0s 198us/step - loss: 0.6109 - accuracy: 0.6797\n",
      "Epoch 20/50\n",
      "768/768 [==============================] - 0s 187us/step - loss: 0.6103 - accuracy: 0.6888\n",
      "Epoch 21/50\n",
      "768/768 [==============================] - 0s 198us/step - loss: 0.6056 - accuracy: 0.7005\n",
      "Epoch 22/50\n",
      "768/768 [==============================] - 0s 177us/step - loss: 0.6134 - accuracy: 0.6784\n",
      "Epoch 23/50\n",
      "768/768 [==============================] - 0s 187us/step - loss: 0.6073 - accuracy: 0.6966\n",
      "Epoch 24/50\n",
      "768/768 [==============================] - 0s 187us/step - loss: 0.6134 - accuracy: 0.6901\n",
      "Epoch 25/50\n",
      "768/768 [==============================] - 0s 208us/step - loss: 0.6021 - accuracy: 0.6966\n",
      "Epoch 26/50\n",
      "768/768 [==============================] - 0s 177us/step - loss: 0.6107 - accuracy: 0.6927\n",
      "Epoch 27/50\n",
      "768/768 [==============================] - 0s 198us/step - loss: 0.6137 - accuracy: 0.6862\n",
      "Epoch 28/50\n",
      "768/768 [==============================] - 0s 167us/step - loss: 0.6065 - accuracy: 0.6823\n",
      "Epoch 29/50\n",
      "768/768 [==============================] - 0s 187us/step - loss: 0.6079 - accuracy: 0.6862\n",
      "Epoch 30/50\n",
      "768/768 [==============================] - 0s 187us/step - loss: 0.6131 - accuracy: 0.6862\n",
      "Epoch 31/50\n",
      "768/768 [==============================] - 0s 187us/step - loss: 0.6076 - accuracy: 0.6914\n",
      "Epoch 32/50\n",
      "768/768 [==============================] - 0s 198us/step - loss: 0.6076 - accuracy: 0.6862\n",
      "Epoch 33/50\n",
      "768/768 [==============================] - 0s 219us/step - loss: 0.6127 - accuracy: 0.6797\n",
      "Epoch 34/50\n",
      "768/768 [==============================] - 0s 187us/step - loss: 0.6107 - accuracy: 0.6888\n",
      "Epoch 35/50\n",
      "768/768 [==============================] - 0s 198us/step - loss: 0.6041 - accuracy: 0.6862\n",
      "Epoch 36/50\n",
      "768/768 [==============================] - 0s 187us/step - loss: 0.6069 - accuracy: 0.6875\n",
      "Epoch 37/50\n",
      "768/768 [==============================] - 0s 198us/step - loss: 0.6079 - accuracy: 0.6888\n",
      "Epoch 38/50\n",
      "768/768 [==============================] - 0s 198us/step - loss: 0.6078 - accuracy: 0.6914\n",
      "Epoch 39/50\n",
      "768/768 [==============================] - 0s 177us/step - loss: 0.6028 - accuracy: 0.6953\n",
      "Epoch 40/50\n",
      "768/768 [==============================] - 0s 240us/step - loss: 0.6045 - accuracy: 0.6992\n",
      "Epoch 41/50\n",
      "768/768 [==============================] - 0s 187us/step - loss: 0.6054 - accuracy: 0.6979\n",
      "Epoch 42/50\n",
      "768/768 [==============================] - 0s 187us/step - loss: 0.6044 - accuracy: 0.6966\n",
      "Epoch 43/50\n",
      "768/768 [==============================] - 0s 187us/step - loss: 0.6062 - accuracy: 0.6901\n",
      "Epoch 44/50\n",
      "768/768 [==============================] - 0s 187us/step - loss: 0.6083 - accuracy: 0.6888\n",
      "Epoch 45/50\n",
      "768/768 [==============================] - 0s 187us/step - loss: 0.6069 - accuracy: 0.6979\n",
      "Epoch 46/50\n",
      "768/768 [==============================] - 0s 187us/step - loss: 0.6076 - accuracy: 0.6836\n",
      "Epoch 47/50\n",
      "768/768 [==============================] - 0s 229us/step - loss: 0.6005 - accuracy: 0.6979\n",
      "Epoch 48/50\n",
      "768/768 [==============================] - 0s 187us/step - loss: 0.6122 - accuracy: 0.6966\n",
      "Epoch 49/50\n",
      "768/768 [==============================] - 0s 187us/step - loss: 0.6013 - accuracy: 0.6888\n",
      "Epoch 50/50\n",
      "768/768 [==============================] - 0s 187us/step - loss: 0.6090 - accuracy: 0.6862\n",
      "Best: 0.680990 using {'optimizer': 'SGD'}\n"
     ]
    }
   ],
   "source": [
    "grid = GridSearchCV(estimator=model, param_grid=parameter_grid, n_jobs=-1, cv=3)\n",
    "grid_result = grid.fit(X, Y)"
   ]
  },
  {
   "cell_type": "code",
   "execution_count": 69,
   "metadata": {},
   "outputs": [
    {
     "name": "stdout",
     "output_type": "stream",
     "text": [
      "Best: 0.680990 using {'optimizer': 'SGD'}\n"
     ]
    }
   ],
   "source": [
    "# summarize results\n",
    "print(\"Best: %f using %s\" % (grid_result.best_score_, grid_result.best_params_))"
   ]
  },
  {
   "cell_type": "markdown",
   "metadata": {},
   "source": [
    "# How can you improve accuracy of the model? "
   ]
  },
  {
   "cell_type": "code",
   "execution_count": null,
   "metadata": {},
   "outputs": [],
   "source": []
  }
 ],
 "metadata": {
  "kernelspec": {
   "display_name": "Python 3 (ipykernel)",
   "language": "python",
   "name": "python3"
  },
  "language_info": {
   "codemirror_mode": {
    "name": "ipython",
    "version": 3
   },
   "file_extension": ".py",
   "mimetype": "text/x-python",
   "name": "python",
   "nbconvert_exporter": "python",
   "pygments_lexer": "ipython3",
   "version": "3.9.13"
  }
 },
 "nbformat": 4,
 "nbformat_minor": 2
}
